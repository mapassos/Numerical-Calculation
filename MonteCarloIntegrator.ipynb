{
 "cells": [
  {
   "cell_type": "markdown",
   "id": "bd1df31a-12fa-450c-ad7c-bde12274116f",
   "metadata": {},
   "source": [
    "<h2>Computing the gamma function via Monte Carlo</h2>  "
   ]
  },
  {
   "cell_type": "markdown",
   "id": "46c2da59-7356-43b4-afed-dc9a87fa27c0",
   "metadata": {},
   "source": [
    "The Monte Carlo method\n",
    "\n",
    "$$\n",
    "\\begin{flalign}\n",
    "    \\int^{b}_{a} f(x)dx &= \\int^{b}_{a} \\frac{(b-a)}{(b-a)} f(x)dx\\\\\n",
    "    &= \\int^{b}_{a}  (b-a) \\phi(x)  f(x)dx\\\\\n",
    "    &= (b-a) \\int^{b}_{a}   \\phi(x)  f(x)dx\\\\\n",
    "    &\\approx (b-a) \\sum\\limits^{N}_{i = 1} \\frac{f(x_i)}{N}dx\\\\\n",
    "\\end{flalign}\n",
    "$$"
   ]
  },
  {
   "cell_type": "markdown",
   "id": "35305dbe-1e6c-42df-a76b-13f0fa8ad2c0",
   "metadata": {},
   "source": [
    "Lets compute the gamma function of 1. The gamma function is a very important function for statistics because it is an extension of the factorial. It is defined as:\n",
    "\n",
    "$$\n",
    "    \\Gamma(z) = \\int^{\\infty}_0 t^{z-1} e^{-t} dt\n",
    "$$\n",
    "\n",
    "For $n \\in \\mathbb{Z}_+$\n",
    "\n",
    "$$\n",
    "    \\Gamma(n) = (n - 1)!\n",
    "$$"
   ]
  },
  {
   "cell_type": "markdown",
   "id": "86cdf58c-5fd0-499f-aaf8-bee68e399bf8",
   "metadata": {},
   "source": [
    "To compute this integral, we are going to define \n",
    "\n",
    "$$\n",
    "    x = \\frac{1}{1+t}\n",
    "$$\n",
    "\n",
    "and from that, we have\n",
    "\n",
    "$$\n",
    "    dx = -x^2dt \n",
    "$$\n",
    "\n",
    "Substituting, \n",
    "\n",
    "$$\n",
    "    \\Gamma(z) = \\int^{1}_{0} x^{-2} \\left(\\frac{1 - x}{x}\\right)^{z-1} exp{\\left(\\frac{x - 1}{x}\\right)} dx\n",
    "$$"
   ]
  },
  {
   "cell_type": "code",
   "execution_count": 4,
   "id": "5d9cae07-0baf-4c7d-b3e1-25c968c236e7",
   "metadata": {},
   "outputs": [],
   "source": [
    "import numpy as np\n",
    "\n",
    "def gamma_int(x, z):\n",
    "    gamma = np.power(x, -2) * np.power( ( 1 / x - 1 ), (z - 1) ) * np.exp( 1 - 1 /x) \n",
    "    return gamma\n",
    "    \n",
    "def mc_gammaf(func, z, lower_bound, upper_bound, sample_size):\n",
    "    samples = np.random.rand(sample_size)\n",
    "    bounded_samples = lower_bound + samples * (upper_bound - lower_bound)\n",
    "    func_samples = gamma_int(bounded_samples, z)\n",
    "    res = (upper_bound - lower_bound) * np.mean(func_samples)\n",
    "    return res"
   ]
  },
  {
   "cell_type": "code",
   "execution_count": 5,
   "id": "396d32e1-89a5-4c57-9feb-6487e91e8f17",
   "metadata": {},
   "outputs": [
    {
     "data": {
      "text/plain": [
       "1.0001717296393071"
      ]
     },
     "execution_count": 5,
     "metadata": {},
     "output_type": "execute_result"
    }
   ],
   "source": [
    "mc_gammaf(gamma_function, z = 1, lower_bound = 0, upper_bound = 1, sample_size = 10000000)"
   ]
  },
  {
   "cell_type": "markdown",
   "id": "0206b1d8-20df-4d15-b9a7-0e7e67216ee4",
   "metadata": {},
   "source": [
    "Let's now compute the Riemann Zeta-Function\n",
    "\n",
    "$$\n",
    "    \\zeta(s) = \\frac{1}{\\Gamma(s)} \\int_0^{\\infty} \\frac{x^{s-1}}{(e^x - 1)} dx\n",
    "$$\n",
    "\n",
    "Doing a u-substitution\n",
    "\n",
    "$$\n",
    "    u = \\frac{1}{1+x}\n",
    "$$\n",
    "\n",
    "and from that, we have\n",
    "\n",
    "$$\n",
    "    du = -u^2dx \n",
    "$$\n",
    "\n",
    "So\n",
    "\n",
    "$$\n",
    "    \\zeta(s) = \\frac{1}{\\Gamma(s)} \\int_0^{1} \\left(\\frac{1 - u}{u}\\right)^{s-1} \\left(\\exp{\\left(\\frac{1 - u}{u}\\right)} - 1\\right)^{-1} u^{-2} du\n",
    "$$"
   ]
  },
  {
   "cell_type": "code",
   "execution_count": 15,
   "id": "0c2a732c-db78-4405-b1f1-2da2d420c0b4",
   "metadata": {},
   "outputs": [],
   "source": [
    "def zeta_int(x, z):\n",
    "    zeta = np.power(1 / x - 1 , z - 1) * np.power((np.exp(1/x - 1) - 1), -1) * np.power(x, -2)\n",
    "    return zeta\n",
    "\n",
    "def mc_zetaf(zeta_int, gamma_int, s, lower_bound, upper_bound, sample_size):\n",
    "    denom = mc_gammaf(gamma_int, s, lower_bound, upper_bound, sample_size)\n",
    "    print(denom)\n",
    "    samples = np.random.rand(sample_size)\n",
    "    bounded_samples = lower_bound + samples * (upper_bound - lower_bound)\n",
    "    func_samples = zeta_int(bounded_samples, s)\n",
    "    res = (upper_bound - lower_bound)/denom * np.mean(func_samples)\n",
    "    return res"
   ]
  },
  {
   "cell_type": "code",
   "execution_count": 24,
   "id": "db933acf-5168-4c50-881a-a5d150c44206",
   "metadata": {},
   "outputs": [
    {
     "name": "stdout",
     "output_type": "stream",
     "text": [
      "1.0000362584265678\n"
     ]
    },
    {
     "name": "stderr",
     "output_type": "stream",
     "text": [
      "C:\\Users\\Mailson\\AppData\\Local\\Temp\\ipykernel_7832\\1815546991.py:2: RuntimeWarning: overflow encountered in exp\n",
      "  zeta = np.power(1 / x - 1 , z - 1) * np.power((np.exp(1/x - 1) - 1), -1) * np.power(x, -2)\n"
     ]
    },
    {
     "data": {
      "text/plain": [
       "1.644529861976943"
      ]
     },
     "execution_count": 24,
     "metadata": {},
     "output_type": "execute_result"
    }
   ],
   "source": [
    "mc_zetaf(zeta_int, gamma_int, 2, lower_bound = 0, upper_bound = 1, sample_size = 5000000)"
   ]
  },
  {
   "cell_type": "markdown",
   "id": "34f400a1-014f-4e62-9755-dead162255df",
   "metadata": {},
   "source": [
    "What about the error function?\n",
    "\n",
    "$$\n",
    "    \\text{erf}(z) =  \\frac{2}{\\sqrt{\\pi}}\\int_0^{x} e^{t^{2}}dt\n",
    "$$"
   ]
  },
  {
   "cell_type": "code",
   "execution_count": 29,
   "id": "0460b21f-a5e9-4605-be9b-90b55c901bbb",
   "metadata": {},
   "outputs": [],
   "source": [
    "def mc_erf(z, sample_size):\n",
    "    samples = np.random.rand(sample_size)\n",
    "    bounded_samples = samples * z\n",
    "    func_samples = np.exp(- np.power(bounded_samples, 2) )\n",
    "    res = 2 * z /np.sqrt(np.pi) * np.mean(func_samples)\n",
    "    return res"
   ]
  },
  {
   "cell_type": "code",
   "execution_count": 33,
   "id": "714bbb74-ccdc-4052-9299-70eb6a389ef6",
   "metadata": {},
   "outputs": [
    {
     "data": {
      "text/plain": [
       "-0.5204264081388471"
      ]
     },
     "execution_count": 33,
     "metadata": {},
     "output_type": "execute_result"
    }
   ],
   "source": [
    "mc_erf(-0.5, 50000)"
   ]
  },
  {
   "cell_type": "code",
   "execution_count": null,
   "id": "1daac7be-e476-49e6-8aa7-7a37f0391d2c",
   "metadata": {},
   "outputs": [],
   "source": []
  }
 ],
 "metadata": {
  "kernelspec": {
   "display_name": "Python 3 (ipykernel)",
   "language": "python",
   "name": "python3"
  },
  "language_info": {
   "codemirror_mode": {
    "name": "ipython",
    "version": 3
   },
   "file_extension": ".py",
   "mimetype": "text/x-python",
   "name": "python",
   "nbconvert_exporter": "python",
   "pygments_lexer": "ipython3",
   "version": "3.11.5"
  }
 },
 "nbformat": 4,
 "nbformat_minor": 5
}
